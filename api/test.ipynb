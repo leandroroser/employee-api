{
 "cells": [
  {
   "cell_type": "code",
   "execution_count": 1,
   "metadata": {},
   "outputs": [],
   "source": [
    "from typing import List\n",
    "import csv\n",
    "from faker import Faker\n",
    "import pytz\n",
    "\n",
    "\n",
    "def generate_employee_csv(file_path: str) -> None:\n",
    "    fake = Faker()\n",
    "    utc = pytz.UTC\n",
    "    with open(file_path, mode='w+', newline='') as csv_file:\n",
    "        writer = csv.writer(csv_file, delimiter=',', quotechar='\"', quoting=csv.QUOTE_MINIMAL)\n",
    "        writer.writerow(['id', 'name', 'hire_date', 'job_id', 'department_id'])\n",
    "        for i in range(1000):\n",
    "            writer.writerow([i+1, fake.name(), fake.iso8601(tzinfo=utc), fake.random_int(min=1, max=3),\n",
    "                             fake.random_int(min=1, max=3)])\n",
    "\n",
    "\n",
    "def generate_job_csv(file_path: str) -> None:\n",
    "    with open(file_path, mode='w+', newline='') as csv_file:\n",
    "        writer = csv.writer(csv_file, delimiter=',', quotechar='\"', quoting=csv.QUOTE_MINIMAL)\n",
    "        writer.writerow(['id', 'name'])\n",
    "        writer.writerow([1, 'Recruiter'])\n",
    "        writer.writerow([2, 'Manager'])\n",
    "        writer.writerow([3, 'Analyst'])\n",
    "        \n",
    "\n",
    "def generate_department_csv(file_path: str) -> None:\n",
    "    with open(file_path, mode='w+', newline='') as csv_file:\n",
    "        writer = csv.writer(csv_file, delimiter=',', quotechar='\"', quoting=csv.QUOTE_MINIMAL)\n",
    "        writer.writerow(['id', 'name'])\n",
    "        writer.writerow([1, 'Supply Chain'])\n",
    "        writer.writerow([2, 'Maintenance'])\n",
    "        writer.writerow([3, 'Staff'])"
   ]
  },
  {
   "cell_type": "code",
   "execution_count": 4,
   "metadata": {},
   "outputs": [],
   "source": [
    "generate_department_csv(\"./test.csv\")"
   ]
  }
 ],
 "metadata": {
  "kernelspec": {
   "display_name": "globant",
   "language": "python",
   "name": "python3"
  },
  "language_info": {
   "codemirror_mode": {
    "name": "ipython",
    "version": 3
   },
   "file_extension": ".py",
   "mimetype": "text/x-python",
   "name": "python",
   "nbconvert_exporter": "python",
   "pygments_lexer": "ipython3",
   "version": "3.10.6"
  },
  "orig_nbformat": 4,
  "vscode": {
   "interpreter": {
    "hash": "645130ec39ed6a07ec87107bb8b2e1771d03dbede7bf2ee58f6a818bb86969a4"
   }
  }
 },
 "nbformat": 4,
 "nbformat_minor": 2
}
